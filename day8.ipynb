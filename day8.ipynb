{
 "cells": [
  {
   "cell_type": "code",
   "execution_count": 1,
   "metadata": {},
   "outputs": [],
   "source": [
    "from aocd import data"
   ]
  },
  {
   "cell_type": "code",
   "execution_count": 5,
   "metadata": {},
   "outputs": [],
   "source": [
    "instructions = data.split('\\n')"
   ]
  },
  {
   "cell_type": "markdown",
   "metadata": {},
   "source": [
    "## part 1"
   ]
  },
  {
   "cell_type": "code",
   "execution_count": 64,
   "metadata": {},
   "outputs": [
    {
     "name": "stdout",
     "output_type": "stream",
     "text": [
      "Index 352 has been executed before...breaking\n",
      "End value of accumulator:  1675\n"
     ]
    }
   ],
   "source": [
    "def run(instructions, verbose=True):\n",
    "    \n",
    "    executed_operations = []\n",
    "    accumulator = 0\n",
    "    index = 0\n",
    "    completed = False\n",
    "\n",
    "    while True:\n",
    "\n",
    "        if index in executed_operations:\n",
    "            if verbose:\n",
    "                print(\"Index {0} has been executed before...breaking\".format(index))\n",
    "            break\n",
    "            \n",
    "        elif index >= len(instructions):\n",
    "            if verbose:\n",
    "                print(\"Program successfully completed\")\n",
    "            completed = True\n",
    "            break\n",
    "\n",
    "        operation, number = instructions[index].split(' ')\n",
    "        number = int(number)\n",
    "        executed_operations.append(index)\n",
    "\n",
    "        if operation == \"nop\":\n",
    "            index += 1\n",
    "\n",
    "        elif operation == \"acc\":\n",
    "            accumulator += number\n",
    "            index += 1\n",
    "\n",
    "        elif operation == \"jmp\":\n",
    "            index += number\n",
    "            \n",
    "    return accumulator, completed\n",
    "            \n",
    "print(\"End value of accumulator: \", run(instructions)[0])"
   ]
  },
  {
   "cell_type": "code",
   "execution_count": 65,
   "metadata": {},
   "outputs": [
    {
     "data": {
      "text/plain": [
       "1675"
      ]
     },
     "execution_count": 65,
     "metadata": {},
     "output_type": "execute_result"
    }
   ],
   "source": [
    "accumulator"
   ]
  },
  {
   "cell_type": "markdown",
   "metadata": {},
   "source": [
    "## part 2"
   ]
  },
  {
   "cell_type": "code",
   "execution_count": 66,
   "metadata": {},
   "outputs": [],
   "source": [
    "jmp_indices = [i for i, instruction in enumerate(instructions) if instruction[:3]==\"jmp\"]\n",
    "nop_indices = [i for i, instruction in enumerate(instructions) if instruction[:3]==\"nop\"]"
   ]
  },
  {
   "cell_type": "code",
   "execution_count": 67,
   "metadata": {},
   "outputs": [
    {
     "name": "stdout",
     "output_type": "stream",
     "text": [
      "Success! Accum: 1532, index:195\n"
     ]
    }
   ],
   "source": [
    "for j in jmp_indices:\n",
    "    \n",
    "    modified_instructions = instructions.copy()\n",
    "    \n",
    "    number = modified_instructions[j].split(' ')[1]\n",
    "    \n",
    "    modified_instructions[j] = \"nop \" + number\n",
    "    \n",
    "    accum, success = run(modified_instructions, verbose=False)\n",
    "    \n",
    "    if success:\n",
    "        print(\"Success! Accum: {}, index:{}\".format(accum, j))\n",
    "    "
   ]
  }
 ],
 "metadata": {
  "kernelspec": {
   "display_name": "Python 3",
   "language": "python",
   "name": "python3"
  },
  "language_info": {
   "codemirror_mode": {
    "name": "ipython",
    "version": 3
   },
   "file_extension": ".py",
   "mimetype": "text/x-python",
   "name": "python",
   "nbconvert_exporter": "python",
   "pygments_lexer": "ipython3",
   "version": "3.8.5"
  }
 },
 "nbformat": 4,
 "nbformat_minor": 4
}
