{
 "cells": [
  {
   "cell_type": "code",
   "execution_count": 9,
   "metadata": {},
   "outputs": [],
   "source": [
    "from aocd import data\n",
    "import re"
   ]
  },
  {
   "cell_type": "code",
   "execution_count": 16,
   "metadata": {},
   "outputs": [],
   "source": [
    "records = [record.replace('\\n',' ') for record in data.split('\\n\\n')]"
   ]
  },
  {
   "cell_type": "markdown",
   "metadata": {},
   "source": [
    "## part 1"
   ]
  },
  {
   "cell_type": "code",
   "execution_count": 23,
   "metadata": {},
   "outputs": [
    {
     "data": {
      "text/plain": [
       "250"
      ]
     },
     "execution_count": 23,
     "metadata": {},
     "output_type": "execute_result"
    }
   ],
   "source": [
    "comp_set = set([\"byr\",\"iyr\",\"eyr\",\"hgt\",\"hcl\",\"ecl\",\"pid\"])\n",
    "\n",
    "sum([comp_set.issubset(set(re.findall('([\\w]{3,4})\\:\\S+',record))) for record in records])"
   ]
  },
  {
   "cell_type": "markdown",
   "metadata": {},
   "source": [
    "## part 2"
   ]
  },
  {
   "cell_type": "code",
   "execution_count": 45,
   "metadata": {},
   "outputs": [],
   "source": [
    "def validate(record_dict):\n",
    "    \n",
    "    try:\n",
    "        \n",
    "        byr_formatted = int(record_dict[\"byr\"])\n",
    "        if byr_formatted<1920 or byr_formatted>2002:\n",
    "            return False\n",
    "        \n",
    "        iyr_formatted = int(record_dict[\"iyr\"])\n",
    "        if iyr_formatted<2010 or iyr_formatted>2020:\n",
    "            return False\n",
    "        \n",
    "        eyr_formatted = int(record_dict[\"eyr\"])\n",
    "        if eyr_formatted<2020 or eyr_formatted>2030:\n",
    "            return False\n",
    "        \n",
    "        hgt_um_formatted = record_dict[\"hgt\"][-2:]\n",
    "        if hgt_um_formatted not in [\"in\",\"cm\"]:\n",
    "            return False\n",
    "        \n",
    "        hgt_val_formatted = int(record_dict[\"hgt\"][:-2])\n",
    "        if hgt_um_formatted == \"cm\":\n",
    "            if hgt_val_formatted<150 or hgt_val_formatted>193:\n",
    "                return False\n",
    "        else:\n",
    "            if hgt_val_formatted<59 or hgt_val_formatted>76:\n",
    "                return False\n",
    "        \n",
    "        if not re.match('^\\#[\\da-f]{6}$',record_dict[\"hcl\"]):\n",
    "            return False\n",
    "        \n",
    "        if record_dict[\"ecl\"] not in set([\"amb\",\"blu\",\"brn\",\"gry\",\"grn\",\"hzl\",\"oth\"]):\n",
    "            return False\n",
    "        \n",
    "        if not re.match('^[\\d]{9}$',record_dict[\"pid\"]):\n",
    "            return False\n",
    "        \n",
    "        return True\n",
    "        \n",
    "    except Exception as e:\n",
    "        return False\n",
    "        print(e)"
   ]
  },
  {
   "cell_type": "code",
   "execution_count": 46,
   "metadata": {},
   "outputs": [
    {
     "data": {
      "text/plain": [
       "158"
      ]
     },
     "execution_count": 46,
     "metadata": {},
     "output_type": "execute_result"
    }
   ],
   "source": [
    "sum([validate(dict(re.findall('([\\w]{3,4})\\:(\\S+)',record))) for record in records])"
   ]
  }
 ],
 "metadata": {
  "kernelspec": {
   "display_name": "Python 3",
   "language": "python",
   "name": "python3"
  },
  "language_info": {
   "codemirror_mode": {
    "name": "ipython",
    "version": 3
   },
   "file_extension": ".py",
   "mimetype": "text/x-python",
   "name": "python",
   "nbconvert_exporter": "python",
   "pygments_lexer": "ipython3",
   "version": "3.8.5"
  }
 },
 "nbformat": 4,
 "nbformat_minor": 4
}
