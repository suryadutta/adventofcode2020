{
 "cells": [
  {
   "cell_type": "code",
   "execution_count": 2,
   "metadata": {},
   "outputs": [],
   "source": [
    "from aocd import data"
   ]
  },
  {
   "cell_type": "code",
   "execution_count": 5,
   "metadata": {},
   "outputs": [],
   "source": [
    "seats = data.split('\\n')"
   ]
  },
  {
   "cell_type": "markdown",
   "metadata": {},
   "source": [
    "## part 1"
   ]
  },
  {
   "cell_type": "code",
   "execution_count": 28,
   "metadata": {},
   "outputs": [
    {
     "name": "stdout",
     "output_type": "stream",
     "text": [
      "878\n"
     ]
    }
   ],
   "source": [
    "def getSeatRow(seat):\n",
    "    seat_row_encoding = {'F':'0', 'B':'1'}\n",
    "    seat_row_binary = ''.join([seat_num_encoding[char] for char in seat[:-3]])\n",
    "    return int(seat_row_binary,2)\n",
    "\n",
    "def getSeatCol(seat):\n",
    "    seat_col_encoding = {'L':'0', 'R':'1'}\n",
    "    seat_col_binary = ''.join([seat_col_encoding[char] for char in seat[-3:]])\n",
    "    return int(seat_col_binary,2)\n",
    "\n",
    "def getSeatID(seat):\n",
    "    return getSeatRow(seat)*8 + getSeatCol(seat)\n",
    "\n",
    "seatIDs =[getSeatID(seat) for seat in seats]\n",
    "print(max(seatIDs))"
   ]
  },
  {
   "cell_type": "markdown",
   "metadata": {},
   "source": [
    "## part 2"
   ]
  },
  {
   "cell_type": "code",
   "execution_count": 35,
   "metadata": {},
   "outputs": [
    {
     "data": {
      "text/plain": [
       "504"
      ]
     },
     "execution_count": 35,
     "metadata": {},
     "output_type": "execute_result"
    }
   ],
   "source": [
    "[seatID+1 for seatID in seatIDs if not(seatID+1 in seatIDs) and not seatID==max(seatIDs)][0]"
   ]
  }
 ],
 "metadata": {
  "kernelspec": {
   "display_name": "Python 3",
   "language": "python",
   "name": "python3"
  },
  "language_info": {
   "codemirror_mode": {
    "name": "ipython",
    "version": 3
   },
   "file_extension": ".py",
   "mimetype": "text/x-python",
   "name": "python",
   "nbconvert_exporter": "python",
   "pygments_lexer": "ipython3",
   "version": "3.8.5"
  }
 },
 "nbformat": 4,
 "nbformat_minor": 4
}
