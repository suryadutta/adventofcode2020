{
 "cells": [
  {
   "cell_type": "code",
   "execution_count": 15,
   "metadata": {},
   "outputs": [],
   "source": [
    "from aocd import data\n",
    "import re"
   ]
  },
  {
   "cell_type": "code",
   "execution_count": 66,
   "metadata": {},
   "outputs": [],
   "source": [
    "rules = data.split('\\n')\n",
    "\n",
    "bag_dict = {}\n",
    "\n",
    "for rule in rules:\n",
    "    \n",
    "    rule_split = rule.split(' contain ')\n",
    "\n",
    "    outer_bag_color = re.search('^(.*)\\sbag',rule_split[0]).groups()[0] \n",
    "    \n",
    "    if not rule_split[1]==\"no other bags.\":\n",
    "        bag_dict[outer_bag_color] = [re.search('(\\d)\\s(.*)\\sbag',inner).groups() for inner in rule_split[1].split(',')]"
   ]
  },
  {
   "cell_type": "markdown",
   "metadata": {},
   "source": [
    "## part 1"
   ]
  },
  {
   "cell_type": "code",
   "execution_count": 196,
   "metadata": {},
   "outputs": [],
   "source": [
    "def getTotalCount(outer_color, inner_color_to_match):\n",
    "    \n",
    "    total_count = 0\n",
    "    \n",
    "    if outer_color in bag_dict:\n",
    "        \n",
    "        data = bag_dict[outer_color]\n",
    "        \n",
    "        for num, inner_color in data:\n",
    "        \n",
    "            if inner_color == inner_color_to_match:\n",
    "                total_count += 1\n",
    "            \n",
    "            else:\n",
    "                total_count += int(num) * getTotalCount(inner_color, inner_color_to_match)\n",
    "                \n",
    "    return total_count"
   ]
  },
  {
   "cell_type": "code",
   "execution_count": 197,
   "metadata": {},
   "outputs": [
    {
     "data": {
      "text/plain": [
       "370"
      ]
     },
     "execution_count": 197,
     "metadata": {},
     "output_type": "execute_result"
    }
   ],
   "source": [
    "sum([getTotalCount(outer_color, 'shiny gold')>0 for outer_color in bag_dict.keys()])"
   ]
  },
  {
   "cell_type": "markdown",
   "metadata": {},
   "source": [
    "## part 2"
   ]
  },
  {
   "cell_type": "code",
   "execution_count": 191,
   "metadata": {},
   "outputs": [],
   "source": [
    "def getTotalContains(outer_color):\n",
    "    \n",
    "    return_count = 1\n",
    "    \n",
    "    if outer_color in bag_dict:\n",
    "        \n",
    "        data = bag_dict[outer_color]\n",
    "        \n",
    "        for num, inner_color in data:\n",
    "            return_count += int(num)*(getTotalContains(inner_color))\n",
    "                \n",
    "    return return_count"
   ]
  },
  {
   "cell_type": "code",
   "execution_count": 192,
   "metadata": {},
   "outputs": [
    {
     "data": {
      "text/plain": [
       "29547"
      ]
     },
     "execution_count": 192,
     "metadata": {},
     "output_type": "execute_result"
    }
   ],
   "source": [
    "getTotalContains('shiny gold') - 1 # don't count the outer bag itself"
   ]
  }
 ],
 "metadata": {
  "kernelspec": {
   "display_name": "Python 3",
   "language": "python",
   "name": "python3"
  },
  "language_info": {
   "codemirror_mode": {
    "name": "ipython",
    "version": 3
   },
   "file_extension": ".py",
   "mimetype": "text/x-python",
   "name": "python",
   "nbconvert_exporter": "python",
   "pygments_lexer": "ipython3",
   "version": "3.8.5"
  }
 },
 "nbformat": 4,
 "nbformat_minor": 4
}
