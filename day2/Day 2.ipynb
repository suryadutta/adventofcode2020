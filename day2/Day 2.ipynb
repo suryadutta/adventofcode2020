{
 "cells": [
  {
   "cell_type": "code",
   "execution_count": 25,
   "metadata": {},
   "outputs": [],
   "source": [
    "from aocd import data\n",
    "import re\n",
    "import collections"
   ]
  },
  {
   "cell_type": "markdown",
   "metadata": {},
   "source": [
    "## Part 1"
   ]
  },
  {
   "cell_type": "code",
   "execution_count": 28,
   "metadata": {},
   "outputs": [],
   "source": [
    "split_dataset = [re.search(r'(\\d+)\\-(\\d+)\\s(\\w):\\s(\\w+)', rule).groups() for rule in data.split('\\n')]"
   ]
  },
  {
   "cell_type": "code",
   "execution_count": 39,
   "metadata": {},
   "outputs": [
    {
     "name": "stdout",
     "output_type": "stream",
     "text": [
      "418 µs ± 1.83 µs per loop (mean ± std. dev. of 7 runs, 1000 loops each)\n"
     ]
    }
   ],
   "source": [
    "%%timeit\n",
    "\n",
    "def getResults(split_dataset):\n",
    "    \n",
    "    valid_counter = 0\n",
    "\n",
    "    for data in split_dataset:\n",
    "\n",
    "        min_length = int(data[0])\n",
    "        max_length = int(data[1])\n",
    "        important_char = data[2]\n",
    "        password = data[3]\n",
    "        \n",
    "        important_char_count = password.count(important_char)\n",
    "        if important_char_count>=min_length and important_char_count<=max_length:\n",
    "            valid_counter+=1\n",
    "\n",
    "    return valid_counter\n",
    "    \n",
    "getResults(split_dataset)"
   ]
  },
  {
   "cell_type": "code",
   "execution_count": 37,
   "metadata": {},
   "outputs": [
    {
     "data": {
      "text/plain": [
       "655"
      ]
     },
     "execution_count": 37,
     "metadata": {},
     "output_type": "execute_result"
    }
   ],
   "source": [
    "getResults(split_dataset)"
   ]
  },
  {
   "cell_type": "markdown",
   "metadata": {},
   "source": [
    "## Part 2"
   ]
  },
  {
   "cell_type": "code",
   "execution_count": 43,
   "metadata": {},
   "outputs": [
    {
     "name": "stdout",
     "output_type": "stream",
     "text": [
      "358 µs ± 7.04 µs per loop (mean ± std. dev. of 7 runs, 1000 loops each)\n"
     ]
    }
   ],
   "source": [
    "%%timeit\n",
    "\n",
    "def getResults2(split_dataset):\n",
    "    \n",
    "    valid_counter = 0\n",
    "\n",
    "    for data in split_dataset:\n",
    "\n",
    "        pos1 = int(data[0])-1\n",
    "        pos2 = int(data[1])-1\n",
    "        important_char = data[2]\n",
    "        password = data[3]\n",
    "        \n",
    "        pos1hasChar = password[pos1]==important_char\n",
    "        pos2hasChar = password[pos2]==important_char\n",
    "        \n",
    "        if pos1hasChar != pos2hasChar:\n",
    "            valid_counter+=1\n",
    "\n",
    "    return valid_counter\n",
    "\n",
    "getResults2(split_dataset)"
   ]
  },
  {
   "cell_type": "code",
   "execution_count": 44,
   "metadata": {},
   "outputs": [
    {
     "data": {
      "text/plain": [
       "673"
      ]
     },
     "execution_count": 44,
     "metadata": {},
     "output_type": "execute_result"
    }
   ],
   "source": [
    "getResults2(split_dataset)"
   ]
  },
  {
   "cell_type": "code",
   "execution_count": null,
   "metadata": {},
   "outputs": [],
   "source": []
  }
 ],
 "metadata": {
  "kernelspec": {
   "display_name": "Python 3",
   "language": "python",
   "name": "python3"
  },
  "language_info": {
   "codemirror_mode": {
    "name": "ipython",
    "version": 3
   },
   "file_extension": ".py",
   "mimetype": "text/x-python",
   "name": "python",
   "nbconvert_exporter": "python",
   "pygments_lexer": "ipython3",
   "version": "3.8.5"
  }
 },
 "nbformat": 4,
 "nbformat_minor": 4
}
