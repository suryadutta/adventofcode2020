{
 "cells": [
  {
   "cell_type": "code",
   "execution_count": 14,
   "metadata": {},
   "outputs": [],
   "source": [
    "from aocd import data\n",
    "from itertools import combinations"
   ]
  },
  {
   "cell_type": "code",
   "execution_count": 5,
   "metadata": {},
   "outputs": [],
   "source": [
    "nums = [int(num) for num in data.split('\\n')]"
   ]
  },
  {
   "cell_type": "markdown",
   "metadata": {},
   "source": [
    "## part 1"
   ]
  },
  {
   "cell_type": "code",
   "execution_count": 26,
   "metadata": {},
   "outputs": [],
   "source": [
    "def isValidNum(index, p_len):\n",
    "    \n",
    "    if index <= p_len:\n",
    "        return True\n",
    "    \n",
    "    val = nums[index]\n",
    "    sum_list = [num for num in nums[index-p_len-1:index] if num <= val]\n",
    "    \n",
    "    for a,b in combinations(sum_list,2):\n",
    "        if a+b == val:\n",
    "            return True\n",
    "    \n",
    "    return False"
   ]
  },
  {
   "cell_type": "code",
   "execution_count": 27,
   "metadata": {},
   "outputs": [
    {
     "name": "stdout",
     "output_type": "stream",
     "text": [
      "Exception:  20874512\n"
     ]
    }
   ],
   "source": [
    "for i in range(len(nums)):\n",
    "    if not isValidNum(i,25):\n",
    "        print(\"Exception: \", nums[i])\n",
    "        break"
   ]
  },
  {
   "cell_type": "markdown",
   "metadata": {},
   "source": [
    "## part 2"
   ]
  },
  {
   "cell_type": "code",
   "execution_count": 29,
   "metadata": {},
   "outputs": [
    {
     "name": "stdout",
     "output_type": "stream",
     "text": [
      "3012420\n"
     ]
    }
   ],
   "source": [
    "exception_num = 20874512\n",
    "found = False\n",
    "\n",
    "for i in range(len(nums)):\n",
    "    if not found:\n",
    "        acc = nums[i]\n",
    "        for j in range(i+1,len(nums)):\n",
    "            acc += nums[j]\n",
    "            if acc == exception_num:\n",
    "                print(nums[i] + nums[j])\n",
    "                found = True\n",
    "                break"
   ]
  }
 ],
 "metadata": {
  "kernelspec": {
   "display_name": "Python 3",
   "language": "python",
   "name": "python3"
  },
  "language_info": {
   "codemirror_mode": {
    "name": "ipython",
    "version": 3
   },
   "file_extension": ".py",
   "mimetype": "text/x-python",
   "name": "python",
   "nbconvert_exporter": "python",
   "pygments_lexer": "ipython3",
   "version": "3.8.5"
  }
 },
 "nbformat": 4,
 "nbformat_minor": 4
}
