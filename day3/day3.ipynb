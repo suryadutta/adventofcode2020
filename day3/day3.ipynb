{
 "cells": [
  {
   "cell_type": "code",
   "execution_count": 1,
   "metadata": {},
   "outputs": [],
   "source": [
    "from aocd import data\n",
    "import numpy as np"
   ]
  },
  {
   "cell_type": "code",
   "execution_count": 10,
   "metadata": {},
   "outputs": [],
   "source": [
    "encoding = {\n",
    "    '.':0,\n",
    "    '#':1\n",
    "}\n",
    "\n",
    "encoded_data = np.array([[encoding[char] for char in row] for row in data.split('\\n')])"
   ]
  },
  {
   "cell_type": "code",
   "execution_count": 19,
   "metadata": {},
   "outputs": [],
   "source": [
    "def getCoordPoint(data, x,y):\n",
    "    width = data.shape[1]\n",
    "    if y > width-1:\n",
    "        y = y % width\n",
    "    return data[x,y]"
   ]
  },
  {
   "cell_type": "code",
   "execution_count": 26,
   "metadata": {},
   "outputs": [
    {
     "name": "stdout",
     "output_type": "stream",
     "text": [
      "223\n"
     ]
    }
   ],
   "source": [
    "row_index = 0\n",
    "row_incrementer = 1\n",
    "\n",
    "col_index = 0\n",
    "col_incrementer = 3\n",
    "\n",
    "tree_counter = 0\n",
    "\n",
    "while row_index<encoded_data.shape[0]:\n",
    "    tree_counter += getCoordPoint(encoded_data, row_index, col_index)\n",
    "    row_index += row_incrementer\n",
    "    col_index += col_incrementer\n",
    "    \n",
    "print(tree_counter)"
   ]
  },
  {
   "cell_type": "markdown",
   "metadata": {},
   "source": [
    "## Part 2"
   ]
  },
  {
   "cell_type": "code",
   "execution_count": 28,
   "metadata": {},
   "outputs": [],
   "source": [
    "possible_slopes = [\n",
    "    [1,1],\n",
    "    [3,1],\n",
    "    [5,1],\n",
    "    [7,1],\n",
    "    [1,2]\n",
    "]\n",
    "\n",
    "tree_counts = []\n",
    "\n",
    "for slope in possible_slopes:\n",
    "    \n",
    "    col_index = 0\n",
    "    row_index = 0\n",
    "    col_incrementer = slope[0]\n",
    "    row_incrementer = slope[1]\n",
    "    \n",
    "    tree_counter = 0\n",
    "\n",
    "    while row_index<encoded_data.shape[0]:\n",
    "        tree_counter += getCoordPoint(encoded_data, row_index, col_index)\n",
    "        row_index += row_incrementer\n",
    "        col_index += col_incrementer\n",
    "\n",
    "    tree_counts.append(tree_counter)\n"
   ]
  },
  {
   "cell_type": "code",
   "execution_count": 30,
   "metadata": {},
   "outputs": [
    {
     "data": {
      "text/plain": [
       "3517401300"
      ]
     },
     "execution_count": 30,
     "metadata": {},
     "output_type": "execute_result"
    }
   ],
   "source": [
    "np.prod(tree_counts)"
   ]
  },
  {
   "cell_type": "code",
   "execution_count": null,
   "metadata": {},
   "outputs": [],
   "source": []
  }
 ],
 "metadata": {
  "kernelspec": {
   "display_name": "Python 3",
   "language": "python",
   "name": "python3"
  },
  "language_info": {
   "codemirror_mode": {
    "name": "ipython",
    "version": 3
   },
   "file_extension": ".py",
   "mimetype": "text/x-python",
   "name": "python",
   "nbconvert_exporter": "python",
   "pygments_lexer": "ipython3",
   "version": "3.8.5"
  }
 },
 "nbformat": 4,
 "nbformat_minor": 4
}
